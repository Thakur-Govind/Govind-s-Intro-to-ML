{
 "cells": [
  {
   "cell_type": "code",
   "execution_count": 6,
   "metadata": {},
   "outputs": [],
   "source": [
    "import numpy as np\n",
    "import pandas as pd\n",
    "from sklearn.model_selection import train_test_split\n",
    "def X_y_sep(alpha, X, y):\n",
    "    X_train,X_test,y_train,y_test = train_test_split(X,y,test_size = alpha, random_state = 42)\n",
    "    return X_train,X_test,y_train,y_test\n",
    "def get_data(file):\n",
    "    df = pd.read_csv(file)\n",
    "    a = list(df.columns)\n",
    "    a.remove('Unnamed: 0')\n",
    "    a.remove('Label')\n",
    "    X = df[a]\n",
    "    y = df['Label']\n",
    "    return (X,y)"
   ]
  },
  {
   "cell_type": "code",
   "execution_count": 7,
   "metadata": {},
   "outputs": [],
   "source": [
    "X,y = get_data('lr.csv')"
   ]
  },
  {
   "cell_type": "code",
   "execution_count": 8,
   "metadata": {},
   "outputs": [],
   "source": [
    "from sklearn.svm import SVC\n",
    "def svc_ml(alpha, X, y):\n",
    "    c = float(input(\"Enter the value of C:\"))\n",
    "    g = int(input(\"Enter the value of gamma:\"))\n",
    "    X_train,X_test,y_train,y_test = X_y_sep(alpha, X, y)\n",
    "    model = SVC(C=c, gamma = g)\n",
    "    model.fit(X_train,y_train)\n",
    "    labels = model.predict(X_test)\n",
    "    return labels,y_test\n"
   ]
  },
  {
   "cell_type": "code",
   "execution_count": 9,
   "metadata": {},
   "outputs": [],
   "source": [
    "from sklearn.linear_model import LinearRegression\n",
    "def lr_ml(alpha, X, y):\n",
    "    X_train,X_test,y_train,y_test = X_y_sep(alpha, X, y)\n",
    "    model = LinearRegression()\n",
    "    model.fit(X_train,y_train)\n",
    "    labels = model.predict(X_test)\n",
    "    return labels, y_test"
   ]
  },
  {
   "cell_type": "code",
   "execution_count": 10,
   "metadata": {},
   "outputs": [],
   "source": [
    "from sklearn.tree import DecisionTreeClassifier\n",
    "def dt_ml(alpha, X, y):\n",
    "    m_d = int(input(\"Maximum Depth of the Tree: \"))\n",
    "    m_s_l =  int(input(\"Minimum Samples per Leaf: \"))\n",
    "    X_train,X_test,y_train,y_test = X_y_sep(alpha, X, y)\n",
    "    model = DecisionTreeClassifier(max_depth = m_d, min_samples_leaf = m_s_l)\n",
    "    model.fit(X_train,y_train)\n",
    "    labels = model.predict(X_test)\n",
    "    return labels, y_test\n"
   ]
  },
  {
   "cell_type": "code",
   "execution_count": 14,
   "metadata": {},
   "outputs": [],
   "source": [
    "from sklearn.ensemble import RandomForestClassifier\n",
    "def rf_ml(alpha, X, y):\n",
    "    n_comps = int(input(\"No. of estimators: \"))\n",
    "    max_d = int(input(\"Max Depth of each Tree: \"))\n",
    "    min_s_s = int(input(\"Minumim Samples-Split: \"))\n",
    "    X_train,X_test,y_train,y_test = X_y_sep(alpha, X, y)\n",
    "    model = RandomForestClassifier(n_estimators = n_comps, max_depth = max_d, min_samples_split = min_s_s)\n",
    "    model.fit(X_train,y_train)\n",
    "    labels = model.predict(X_test)\n",
    "    return labels, y_test"
   ]
  },
  {
   "cell_type": "code",
   "execution_count": 29,
   "metadata": {},
   "outputs": [],
   "source": [
    "from sklearn.metrics import accuracy_score,f1_score,fbeta_score\n",
    "def tmetrics(y,y_test):\n",
    "    y = list(y)\n",
    "    y_test = list(y_test)\n",
    "    return ({'accuracy':accuracy_score(y,y_test),'f1-score':f1_score(y,y_test),'f-beta_low':fbeta_score(y,y_test,beta = 0.001),'f-beta_high':fbeta_score(y,y_test, beta = 5)})"
   ]
  },
  {
   "cell_type": "code",
   "execution_count": 36,
   "metadata": {},
   "outputs": [
    {
     "name": "stdout",
     "output_type": "stream",
     "text": [
      "Maximum Depth of the Tree: 6\n",
      "Minimum Samples per Leaf: 3\n"
     ]
    }
   ],
   "source": [
    "yout,ytest = dt_ml(0.2,X,y)"
   ]
  },
  {
   "cell_type": "code",
   "execution_count": 37,
   "metadata": {},
   "outputs": [
    {
     "name": "stdout",
     "output_type": "stream",
     "text": [
      "accuracy---0.95\n",
      "f1-score---0.9411764705882354\n",
      "f-beta_low---0.9696969109275185\n",
      "f-beta_high---0.9162995594713655\n"
     ]
    }
   ],
   "source": [
    "out = tmetrics(yout,ytest)\n",
    "for i in out:\n",
    "    print('{}---{}'.format(i,out[i]))"
   ]
  },
  {
   "cell_type": "code",
   "execution_count": null,
   "metadata": {},
   "outputs": [],
   "source": []
  }
 ],
 "metadata": {
  "kernelspec": {
   "display_name": "Python 3",
   "language": "python",
   "name": "python3"
  },
  "language_info": {
   "codemirror_mode": {
    "name": "ipython",
    "version": 3
   },
   "file_extension": ".py",
   "mimetype": "text/x-python",
   "name": "python",
   "nbconvert_exporter": "python",
   "pygments_lexer": "ipython3",
   "version": "3.7.1"
  }
 },
 "nbformat": 4,
 "nbformat_minor": 2
}
